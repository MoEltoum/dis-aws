{
 "cells": [
  {
   "cell_type": "code",
   "outputs": [],
   "source": [
    "# set up environment "
   ],
   "metadata": {
    "collapsed": true,
    "is_executing": true
   },
   "id": "initial_id",
   "execution_count": 0
  },
  {
   "cell_type": "code",
   "outputs": [],
   "source": [
    "# Install necessary packages\n",
    "!pip install sagemaker torch torchvision\n",
    "\n",
    "# Import SageMaker and other required libraries\n",
    "import sagemaker\n",
    "from sagemaker import get_execution_role\n",
    "from sagemaker.pytorch import PyTorch\n",
    "\n",
    "# Get the SageMaker execution role\n",
    "role = get_execution_role()"
   ],
   "metadata": {
    "collapsed": false
   },
   "id": "a671a99cf40a96f9"
  },
  {
   "cell_type": "code",
   "outputs": [],
   "source": [
    "# specify S3 inputs "
   ],
   "metadata": {
    "collapsed": false,
    "is_executing": true
   },
   "id": "7135856be96fff29"
  },
  {
   "cell_type": "code",
   "outputs": [],
   "source": [
    "s3_bucket = 'dis-sagemaker'\n",
    "s3_prefix = 'dis'"
   ],
   "metadata": {
    "collapsed": false
   },
   "id": "35af94ac439b8606"
  },
  {
   "cell_type": "code",
   "outputs": [],
   "source": [
    "# build and push container to ECR"
   ],
   "metadata": {
    "collapsed": false
   },
   "id": "35073de369774341"
  },
  {
   "cell_type": "code",
   "outputs": [],
   "source": [
    "image_name = 'dis-image-segmentation'\n",
    "\n",
    "!sh ./src/build_and_push.sh $image_name\n",
    "\n",
    "with open (os.path.join('docker', 'ecr_image_fullname.txt'), 'r') as f:\n",
    "    container = f.readlines()[0][:-1]\n",
    "\n",
    "print(container)"
   ],
   "metadata": {
    "collapsed": false
   },
   "id": "6d24efcd93eb6b96"
  },
  {
   "cell_type": "code",
   "outputs": [],
   "source": [
    "# Set up the PyTorch estimator"
   ],
   "metadata": {
    "collapsed": false
   },
   "id": "6c77ff10f639eefc"
  },
  {
   "cell_type": "code",
   "outputs": [],
   "source": [
    "estimator = PyTorch(entry_point='train.py',\n",
    "                    role=role,\n",
    "                    framework_version='1.8.1',\n",
    "                    train_instance_count=1,\n",
    "                    train_instance_type='ml.p3.2xlarge',  # Choose an appropriate instance type\n",
    "                    output_path=f's3://{s3_bucket}/{s3_prefix}/output',\n",
    "                    hyperparameters={\n",
    "                        'epochs': 5\n",
    "                    },\n",
    "                    image_uri=container)\n",
    "\n",
    "# Start the training job\n",
    "estimator.fit({'training': f's3://{s3_bucket}/{s3_prefix}/training-data'})"
   ],
   "metadata": {
    "collapsed": false
   },
   "id": "5786b08b516ce716"
  },
  {
   "cell_type": "code",
   "outputs": [],
   "source": [],
   "metadata": {
    "collapsed": false
   },
   "id": "bd9e5f874ff45727"
  }
 ],
 "metadata": {
  "kernelspec": {
   "display_name": "Python 3",
   "language": "python",
   "name": "python3"
  },
  "language_info": {
   "codemirror_mode": {
    "name": "ipython",
    "version": 2
   },
   "file_extension": ".py",
   "mimetype": "text/x-python",
   "name": "python",
   "nbconvert_exporter": "python",
   "pygments_lexer": "ipython2",
   "version": "2.7.6"
  }
 },
 "nbformat": 4,
 "nbformat_minor": 5
}
