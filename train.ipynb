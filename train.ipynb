{
 "cells": [
  {
   "cell_type": "code",
   "outputs": [],
   "source": [
    "# set up environment \n",
    "# Install necessary packages if conda env not selected\n",
    "#!pip install sagemaker torch torchvision"
   ],
   "metadata": {
    "collapsed": true,
    "is_executing": true
   },
   "id": "initial_id",
   "execution_count": 0
  },
  {
   "cell_type": "code",
   "outputs": [],
   "source": [
    "# Import SageMaker and other required libraries\n",
    "import os\n",
    "import sagemaker\n",
    "from sagemaker import get_execution_role\n",
    "from sagemaker.pytorch import PyTorch\n",
    "\n",
    "# Get the SageMaker execution role\n",
    "role = get_execution_role()"
   ],
   "metadata": {
    "collapsed": false
   },
   "id": "a671a99cf40a96f9"
  },
  {
   "cell_type": "code",
   "outputs": [],
   "source": [
    "# build and push container to ECR\n",
    "image_name = 'dis-image-segmentation'"
   ],
   "metadata": {
    "collapsed": false,
    "is_executing": true
   },
   "id": "7135856be96fff29"
  },
  {
   "cell_type": "code",
   "outputs": [],
   "source": [
    "!sh ./src/build_and_push.sh $image_name"
   ],
   "metadata": {
    "collapsed": false
   },
   "id": "35af94ac439b8606"
  },
  {
   "cell_type": "code",
   "outputs": [],
   "source": [
    "# build and push container to ECR"
   ],
   "metadata": {
    "collapsed": false
   },
   "id": "35073de369774341"
  },
  {
   "cell_type": "code",
   "outputs": [],
   "source": [
    "with open (os.path.join('src', 'ecr_image_fullname.txt'), 'r') as f:\n",
    "    container = f.readlines()[0][:-1]\n",
    "\n",
    "print(container)"
   ],
   "metadata": {
    "collapsed": false
   },
   "id": "6d24efcd93eb6b96"
  },
  {
   "cell_type": "code",
   "outputs": [],
   "source": [
    "# Set up Hyperparameters\n",
    "hyperparameters = {\"s3_bucket\": \"dis-sagemaker\",\n",
    "           \"s3_train_data\": \"fast-flow/data\",\n",
    "           \"s3_logs_path\": \"fast-flow/experiment-2/outputs/logs/train_logs\",\n",
    "           \"s3_tensorboard_path\": \"fast-flow/experiment-2/outputs/tensorboard\",\n",
    "           \"s3_model_path\": \"fast-flow/experiment-2/outputs/saved_weights\",\n",
    "           \"early_stop\": 20,\n",
    "           \"model_save_fre\": 20,\n",
    "           \"batch_size_train\": 16,\n",
    "           \"batch_size_valid\": 1,\n",
    "           \"max_ite\": 100,\n",
    "           \"max_epoch_num\": 5}"
   ],
   "metadata": {
    "collapsed": false
   },
   "id": "399a7fe099716eeb"
  },
  {
   "cell_type": "code",
   "outputs": [],
   "source": [
    "# Set up the PyTorch estimator"
   ],
   "metadata": {
    "collapsed": false
   },
   "id": "6c77ff10f639eefc"
  },
  {
   "cell_type": "code",
   "outputs": [],
   "source": [
    "estimator = PyTorch(entry_point='train.py',\n",
    "                    source_dir='./src',\n",
    "                    role=role,\n",
    "                    framework_version='1.12.1',\n",
    "                    py_version='py38',\n",
    "                    instance_count=1,\n",
    "                    instance_type='ml.m5.4xlarge',\n",
    "                    hyperparameters=hyperparameters\n",
    "                    )"
   ],
   "metadata": {
    "collapsed": false
   },
   "id": "5786b08b516ce716"
  },
  {
   "cell_type": "code",
   "outputs": [],
   "source": [
    "estimator.fit()"
   ],
   "metadata": {
    "collapsed": false
   },
   "id": "bd9e5f874ff45727"
  }
 ],
 "metadata": {
  "kernelspec": {
   "display_name": "Python 3",
   "language": "python",
   "name": "python3"
  },
  "language_info": {
   "codemirror_mode": {
    "name": "ipython",
    "version": 2
   },
   "file_extension": ".py",
   "mimetype": "text/x-python",
   "name": "python",
   "nbconvert_exporter": "python",
   "pygments_lexer": "ipython2",
   "version": "2.7.6"
  }
 },
 "nbformat": 4,
 "nbformat_minor": 5
}
